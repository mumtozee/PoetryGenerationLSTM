{
  "cells": [
    {
      "cell_type": "markdown",
      "metadata": {
        "id": "Vz2rhVHPl9fB"
      },
      "source": [
        "## Lab 2"
      ]
    },
    {
      "cell_type": "markdown",
      "metadata": {
        "id": "K-j-X-fOl9fJ"
      },
      "source": [
        "### Part 3. Poetry generation\n",
        "\n",
        "Let's try to generate some poetry using RNNs. \n",
        "\n",
        "You have several choices here: \n",
        "\n",
        "* The Shakespeare sonnets, file `sonnets.txt` available in the notebook directory.\n",
        "\n",
        "* Роман в стихах \"Евгений Онегин\" Александра Сергеевича Пушкина. В предобработанном виде доступен по [ссылке](https://github.com/attatrol/data_sources/blob/master/onegin.txt).\n",
        "\n",
        "* Some other text source, if it will be approved by the course staff.\n",
        "\n",
        "Text generation can be designed in several steps:\n",
        "    \n",
        "1. Data loading.\n",
        "2. Dictionary generation.\n",
        "3. Data preprocessing.\n",
        "4. Model (neural network) training.\n",
        "5. Text generation (model evaluation).\n"
      ]
    },
    {
      "cell_type": "code",
      "execution_count": 1,
      "metadata": {
        "id": "KdaYmJ47l9fO"
      },
      "outputs": [],
      "source": [
        "import string\n",
        "import os"
      ]
    },
    {
      "cell_type": "markdown",
      "metadata": {
        "id": "mhCSREogl9fU"
      },
      "source": [
        "### Data loading: Shakespeare"
      ]
    },
    {
      "cell_type": "markdown",
      "metadata": {
        "id": "wiIr0T6cl9fj"
      },
      "source": [
        "Shakespeare sonnets are awailable at this [link](http://www.gutenberg.org/ebooks/1041?msg=welcome_stranger). In addition, they are stored in the same directory as this notebook (`sonnetes.txt`). Simple preprocessing is already done for you in the next cell: all technical info is dropped."
      ]
    },
    {
      "cell_type": "code",
      "execution_count": 2,
      "metadata": {
        "collapsed": true,
        "id": "hxgOl8hhl9fl"
      },
      "outputs": [],
      "source": [
        "if not os.path.exists('sonnets.txt'):\n",
        "    !wget https://raw.githubusercontent.com/girafe-ai/ml-mipt/21f_basic/homeworks_basic/lab02_deep_learning/sonnets.txt\n",
        "\n",
        "with open('sonnets.txt', 'r') as iofile:\n",
        "    text = iofile.readlines()\n",
        "    \n",
        "TEXT_START = 45\n",
        "TEXT_END = -368\n",
        "text = text[TEXT_START : TEXT_END]\n",
        "assert len(text) == 2616"
      ]
    },
    {
      "cell_type": "markdown",
      "metadata": {
        "id": "rpvmYNQ3l9fn"
      },
      "source": [
        "In opposite to the in-class practice, this time we want to predict complex text. Let's reduce the complexity of the task and lowercase all the symbols.\n",
        "\n",
        "Now variable `text` is a list of strings. Join all the strings into one and lowercase it."
      ]
    },
    {
      "cell_type": "code",
      "execution_count": 3,
      "metadata": {
        "colab": {
          "base_uri": "https://localhost:8080/"
        },
        "id": "pex5H2Z-l9fr",
        "outputId": "634befa7-73c3-4dbe-d349-388b52f29bbb"
      },
      "outputs": [
        {
          "output_type": "stream",
          "name": "stdout",
          "text": [
            "OK!\n"
          ]
        }
      ],
      "source": [
        "# Join all the strings into one and lowercase it\n",
        "# Put result into variable text.\n",
        "\n",
        "text = ''.join(text).lower()\n",
        "\n",
        "assert len(text) == 100225, 'Are you sure you have concatenated all the strings?'\n",
        "assert not any([x in set(text) for x in string.ascii_uppercase]), 'Uppercase letters are present'\n",
        "print('OK!')"
      ]
    },
    {
      "cell_type": "markdown",
      "metadata": {
        "id": "Sny8mQyGl9f7"
      },
      "source": [
        "Put all the characters, that you've seen in the text, into variable `tokens`."
      ]
    },
    {
      "cell_type": "code",
      "execution_count": 4,
      "metadata": {
        "colab": {
          "base_uri": "https://localhost:8080/"
        },
        "id": "qyrQTRV0l9f-",
        "outputId": "d528e89d-d966-45c1-c9b6-f15b20771293"
      },
      "outputs": [
        {
          "output_type": "execute_result",
          "data": {
            "text/plain": [
              "38"
            ]
          },
          "metadata": {},
          "execution_count": 4
        }
      ],
      "source": [
        "tokens = list(sorted(set(text)))\n",
        "len(tokens)"
      ]
    },
    {
      "cell_type": "markdown",
      "metadata": {
        "id": "XryijKRDl9gA"
      },
      "source": [
        "Create dictionary `token_to_idx = {<char>: <index>}` and dictionary `idx_to_token = {<index>: <char>}`"
      ]
    },
    {
      "cell_type": "code",
      "execution_count": 5,
      "metadata": {
        "collapsed": true,
        "id": "RHAE44v4l9gC"
      },
      "outputs": [],
      "source": [
        "# dict <index>:<char>\n",
        "idx_to_token = dict(enumerate(tokens))\n",
        "\n",
        "# dict <char>:<index>\n",
        "token_to_idx = {value: idx for idx, value in idx_to_token.items()}"
      ]
    },
    {
      "cell_type": "code",
      "source": [
        "assert len(tokens) == len(token_to_idx), \"dictionaries must have same size\"\n",
        "assert len(tokens) == len(idx_to_token), \"dictionaries must have same size\"\n",
        "\n",
        "num_tokens = len(tokens)\n",
        "for i in range(num_tokens):\n",
        "    assert token_to_idx[tokens[i]] == i, \"token identifier must be it's position in tokens list\"\n",
        "    assert idx_to_token[i] == tokens[i], \"token identifier must be it's position in tokens list\"\n",
        "\n",
        "print(\"Seems alright!\")"
      ],
      "metadata": {
        "colab": {
          "base_uri": "https://localhost:8080/"
        },
        "id": "zfd97YFyk-vd",
        "outputId": "439bfc00-638a-4ee2-82d9-02a034735373"
      },
      "execution_count": 6,
      "outputs": [
        {
          "output_type": "stream",
          "name": "stdout",
          "text": [
            "Seems alright!\n"
          ]
        }
      ]
    },
    {
      "cell_type": "code",
      "source": [
        "import numpy as np\n",
        "import torch\n",
        "import torchsummary\n",
        "import torch.nn as nn\n",
        "import torch.optim as optim\n",
        "import torch.nn.functional as F\n",
        "\n",
        "device = 'cuda:0' if torch.cuda.is_available() else 'cpu'"
      ],
      "metadata": {
        "id": "CKaXYXFCMtdJ"
      },
      "execution_count": 7,
      "outputs": []
    },
    {
      "cell_type": "code",
      "source": [
        "encoded = torch.tensor([token_to_idx[char] for char in text])\n",
        "encoded.shape"
      ],
      "metadata": {
        "colab": {
          "base_uri": "https://localhost:8080/"
        },
        "id": "XmQpZ8FaM_pU",
        "outputId": "ebd78307-94c6-4a1e-b044-b121691a6a07"
      },
      "execution_count": 8,
      "outputs": [
        {
          "output_type": "execute_result",
          "data": {
            "text/plain": [
              "torch.Size([100225])"
            ]
          },
          "metadata": {},
          "execution_count": 8
        }
      ]
    },
    {
      "cell_type": "markdown",
      "metadata": {
        "id": "-oZYRKD9l9gF"
      },
      "source": [
        "*Comment: in this task we have only 38 different tokens, so let's use one-hot encoding.*"
      ]
    },
    {
      "cell_type": "code",
      "source": [
        "def get_batches(data, batch_size, seq_length):\n",
        "  bsize_total = batch_size * seq_length\n",
        "  num_batches = data.shape[0] // bsize_total\n",
        "  data = data[:bsize_total * num_batches]\n",
        "  data = data.reshape((batch_size, -1))\n",
        "\n",
        "  for i in range(0, data.shape[1], seq_length):\n",
        "    x = data[:, i:i+seq_length]\n",
        "    y = torch.zeros_like(x)\n",
        "    try:\n",
        "      last_chars = data[:, i + seq_length]\n",
        "    except IndexError:\n",
        "      last_chars = data[:, 0]\n",
        "    y[:, :-1], y[:, -1] = x[:, 1:], last_chars\n",
        "    yield x, y"
      ],
      "metadata": {
        "id": "YsYJTzDoHwJX"
      },
      "execution_count": 9,
      "outputs": []
    },
    {
      "cell_type": "markdown",
      "metadata": {
        "id": "8BKllOsyl9gG"
      },
      "source": [
        "### Building the model"
      ]
    },
    {
      "cell_type": "markdown",
      "metadata": {
        "id": "kVdUKaVBl9gH"
      },
      "source": [
        "Now we want to build and train recurrent neural net which would be able to something similar to Shakespeare's poetry.\n",
        "\n",
        "Let's use vanilla RNN, similar to the one created during the lesson."
      ]
    },
    {
      "cell_type": "code",
      "execution_count": 10,
      "metadata": {
        "collapsed": true,
        "id": "HeMGanEul9gH"
      },
      "outputs": [],
      "source": [
        "class CharRNNLoop(nn.Module):\n",
        "  def __init__(self, num_tokens=len(tokens), emb_size=len(tokens), rnn_num_units=64):\n",
        "    super(self.__class__, self).__init__()\n",
        "    self.num_units = rnn_num_units\n",
        "    self.rnn = nn.RNN(emb_size, rnn_num_units, batch_first=True)\n",
        "    self.hid_to_logits = nn.Linear(rnn_num_units, num_tokens)\n",
        "      \n",
        "  def forward(self, x, h_prev):\n",
        "    rnn_out, h_next = self.rnn(x, h_prev)\n",
        "    out = rnn_out.contiguous().view((-1, self.num_units))\n",
        "    out = self.hid_to_logits(out)\n",
        "    return out, h_next\n",
        "  \n",
        "  def init_hidden(self, batch_size):\n",
        "    return torch.zeros((1, batch_size, self.num_units), requires_grad=True)"
      ]
    },
    {
      "cell_type": "code",
      "source": [
        "def train(net, data=encoded, n_epochs=10, batch_size=16, seq_length=100, lr=1e-3, is_lstm=False):\n",
        "  net.train()\n",
        "  opt = optim.Adam(net.parameters(), lr=lr)\n",
        "  loss_func = nn.CrossEntropyLoss()\n",
        "\n",
        "  loss_history = []\n",
        "\n",
        "  for epoch in range(n_epochs):\n",
        "    h = net.init_hidden(batch_size)\n",
        "    for x, y in get_batches(data, batch_size, seq_length):\n",
        "      input = F.one_hot(x, len(tokens)).to(torch.float32).to(device)\n",
        "      target = y.to(device)\n",
        "      if is_lstm:\n",
        "        h = tuple([state.data.to(device) for state in h])\n",
        "      else:\n",
        "        h = h.data.to(device)\n",
        "      opt.zero_grad()\n",
        "      output, h = net(input, h)\n",
        "      loss = loss_func(output, target.view(batch_size * seq_length).long())\n",
        "      loss.backward()\n",
        "      opt.step()\n",
        "      loss_history.append(loss.item())\n",
        "    print(f\"Epoch: {epoch}, loss: {loss_history[-1]: .3}\")\n",
        "  return loss_history"
      ],
      "metadata": {
        "id": "gjwhl4g3XpbZ"
      },
      "execution_count": 11,
      "outputs": []
    },
    {
      "cell_type": "code",
      "source": [
        "model = CharRNNLoop().to(device)\n",
        "ret = train(model, n_epochs=50, lr=0.007)\n",
        "len(ret)"
      ],
      "metadata": {
        "colab": {
          "base_uri": "https://localhost:8080/"
        },
        "id": "j-lNRpzH1kH1",
        "outputId": "abfca134-f239-4486-b609-266b31d04698"
      },
      "execution_count": 12,
      "outputs": [
        {
          "output_type": "stream",
          "name": "stdout",
          "text": [
            "Epoch: 0, loss:  2.35\n",
            "Epoch: 1, loss:  2.15\n",
            "Epoch: 2, loss:  2.05\n",
            "Epoch: 3, loss:  1.98\n",
            "Epoch: 4, loss:  1.93\n",
            "Epoch: 5, loss:  1.89\n",
            "Epoch: 6, loss:  1.87\n",
            "Epoch: 7, loss:  1.84\n",
            "Epoch: 8, loss:  1.81\n",
            "Epoch: 9, loss:  1.79\n",
            "Epoch: 10, loss:  1.78\n",
            "Epoch: 11, loss:  1.76\n",
            "Epoch: 12, loss:  1.75\n",
            "Epoch: 13, loss:  1.73\n",
            "Epoch: 14, loss:  1.72\n",
            "Epoch: 15, loss:  1.71\n",
            "Epoch: 16, loss:  1.7\n",
            "Epoch: 17, loss:  1.69\n",
            "Epoch: 18, loss:  1.68\n",
            "Epoch: 19, loss:  1.67\n",
            "Epoch: 20, loss:  1.67\n",
            "Epoch: 21, loss:  1.66\n",
            "Epoch: 22, loss:  1.66\n",
            "Epoch: 23, loss:  1.65\n",
            "Epoch: 24, loss:  1.64\n",
            "Epoch: 25, loss:  1.64\n",
            "Epoch: 26, loss:  1.63\n",
            "Epoch: 27, loss:  1.63\n",
            "Epoch: 28, loss:  1.63\n",
            "Epoch: 29, loss:  1.63\n",
            "Epoch: 30, loss:  1.62\n",
            "Epoch: 31, loss:  1.62\n",
            "Epoch: 32, loss:  1.62\n",
            "Epoch: 33, loss:  1.62\n",
            "Epoch: 34, loss:  1.62\n",
            "Epoch: 35, loss:  1.62\n",
            "Epoch: 36, loss:  1.61\n",
            "Epoch: 37, loss:  1.61\n",
            "Epoch: 38, loss:  1.61\n",
            "Epoch: 39, loss:  1.61\n",
            "Epoch: 40, loss:  1.61\n",
            "Epoch: 41, loss:  1.6\n",
            "Epoch: 42, loss:  1.6\n",
            "Epoch: 43, loss:  1.6\n",
            "Epoch: 44, loss:  1.6\n",
            "Epoch: 45, loss:  1.6\n",
            "Epoch: 46, loss:  1.6\n",
            "Epoch: 47, loss:  1.6\n",
            "Epoch: 48, loss:  1.6\n",
            "Epoch: 49, loss:  1.6\n"
          ]
        },
        {
          "output_type": "execute_result",
          "data": {
            "text/plain": [
              "3100"
            ]
          },
          "metadata": {},
          "execution_count": 12
        }
      ]
    },
    {
      "cell_type": "markdown",
      "metadata": {
        "id": "HD3YGWmpl9gI"
      },
      "source": [
        "Plot the loss function (axis X: number of epochs, axis Y: loss function)."
      ]
    },
    {
      "cell_type": "code",
      "execution_count": 13,
      "metadata": {
        "collapsed": true,
        "id": "b4ijmYu9l9gI"
      },
      "outputs": [],
      "source": [
        "import matplotlib.pyplot as plt\n",
        "import seaborn as sns\n",
        "sns.set(font_scale=1.1, style=\"whitegrid\")"
      ]
    },
    {
      "cell_type": "code",
      "source": [
        "plt.figure(figsize=(15, 8))\n",
        "sns.lineplot(x=np.arange(len(ret)), y=ret)\n",
        "plt.title(\"Loss through iterations\")\n",
        "plt.xlabel(\"#iteration\")\n",
        "plt.ylabel(\"loss\")\n",
        "plt.show()"
      ],
      "metadata": {
        "colab": {
          "base_uri": "https://localhost:8080/",
          "height": 521
        },
        "id": "o7WEhMpyalE1",
        "outputId": "0da2ea93-6e88-4e95-e8d2-22d1ed89268b"
      },
      "execution_count": 14,
      "outputs": [
        {
          "output_type": "display_data",
          "data": {
            "image/png": "[encoded data removed]",
            "text/plain": [
              "<Figure size 1080x576 with 1 Axes>"
            ]
          },
          "metadata": {}
        }
      ]
    },
    {
      "cell_type": "code",
      "source": [
        "def predict(net, char, h=None, temperature=0.1, is_lstm=False):\n",
        "  x = torch.tensor([[token_to_idx[char]]])\n",
        "  x = F.one_hot(x, len(tokens)).float()\n",
        "  inputs = x.to(device)\n",
        "  \n",
        "  if is_lstm:\n",
        "    h = tuple([state.data.to(device) for state in h])\n",
        "  else:\n",
        "    h = h.data.to(device)\n",
        "  out, h = net(inputs, h)\n",
        "\n",
        "  p = F.softmax(out / temperature, dim=-1).data.to(device)\n",
        "  \n",
        "  top_ch = torch.arange(len(tokens))\n",
        "  p = p.numpy().squeeze()\n",
        "  char = np.random.choice(top_ch, p=p/p.sum())\n",
        "  \n",
        "  return idx_to_token[char], h"
      ],
      "metadata": {
        "id": "I6bdtxJaavdC"
      },
      "execution_count": 15,
      "outputs": []
    },
    {
      "cell_type": "code",
      "source": [
        "def sample(net, size, prime='Il', temperature=0.1, is_lstm=False):\n",
        "  net.eval() # eval mode\n",
        "  prime = prime.lower()\n",
        "  chars = [ch for ch in prime]\n",
        "  h = net.init_hidden(1)\n",
        "  for ch in prime:\n",
        "      char, h = predict(net, ch, h, temperature=temperature, is_lstm=is_lstm)\n",
        "  chars.append(char)\n",
        "  for ii in range(size):\n",
        "      char, h = predict(net, chars[-1], h, temperature=temperature, is_lstm=is_lstm)\n",
        "      chars.append(char)\n",
        "  return ''.join(chars)"
      ],
      "metadata": {
        "id": "l5VbjTgfcB8h"
      },
      "execution_count": 16,
      "outputs": []
    },
    {
      "cell_type": "code",
      "source": [
        "print(sample(model, 500, prime=' Hello', temperature=0.5))"
      ],
      "metadata": {
        "colab": {
          "base_uri": "https://localhost:8080/"
        },
        "id": "D5Mp3KF_cSoP",
        "outputId": "d0ec7789-28f7-4e83-ab02-39da11449cfc"
      },
      "execution_count": 17,
      "outputs": [
        {
          "output_type": "stream",
          "name": "stdout",
          "text": [
            " hellore from serven in this for my heart the sweet and the present and thee the eye doth place may thou art thou fair the world the fair the with far the thought and to the and the enet the be so west be in thee best the sainted and that the praise thy seage thee and net the with this fair in the chant in eyes the fault or this time, my senst thou art is his from my self did bring in thee and conties,\n",
            "  and in this for the still the the winkn, and in the the heart the the true the beauty be my some, b\n"
          ]
        }
      ]
    },
    {
      "cell_type": "markdown",
      "metadata": {
        "id": "fUflUvKXl9gK"
      },
      "source": [
        "### More poetic model\n",
        "\n",
        "Let's use LSTM instead of vanilla RNN and compare the results."
      ]
    },
    {
      "cell_type": "markdown",
      "metadata": {
        "id": "VKVaJIg4l9gK"
      },
      "source": [
        "Plot the loss function of the number of epochs. Does the final loss become better?"
      ]
    },
    {
      "cell_type": "code",
      "execution_count": 18,
      "metadata": {
        "collapsed": true,
        "id": "Q89M1-_tl9gL"
      },
      "outputs": [],
      "source": [
        "class CharLSTMLoop(nn.Module):\n",
        "  def __init__(self, num_tokens=len(tokens), emb_size=len(tokens), rnn_num_units=64):\n",
        "    super(self.__class__, self).__init__()\n",
        "    self.num_units = rnn_num_units\n",
        "    self.rnn = nn.LSTM(emb_size, rnn_num_units, batch_first=True)\n",
        "    self.hid_to_logits = nn.Linear(rnn_num_units, num_tokens)\n",
        "\n",
        "  def forward(self, x, h_prev):\n",
        "    rnn_out, h_next = self.rnn(x, h_prev)\n",
        "    out = rnn_out.contiguous().view((-1, self.num_units))\n",
        "    out = self.hid_to_logits(out)\n",
        "    return out, h_next\n",
        "  \n",
        "  def init_hidden(self, batch_size):\n",
        "    return (torch.zeros((1, batch_size, self.num_units), requires_grad=True),\n",
        "            torch.zeros((1, batch_size, self.num_units), requires_grad=True))"
      ]
    },
    {
      "cell_type": "code",
      "source": [
        "lstm_model = CharLSTMLoop().to(device)\n",
        "lstm_ret = train(lstm_model, n_epochs=20, lr=0.007, is_lstm=True)\n",
        "len(lstm_ret)"
      ],
      "metadata": {
        "colab": {
          "base_uri": "https://localhost:8080/"
        },
        "id": "W945lgVmjkPM",
        "outputId": "2f6e3a90-8be0-4c5a-cf01-c476d979782d"
      },
      "execution_count": 19,
      "outputs": [
        {
          "output_type": "stream",
          "name": "stdout",
          "text": [
            "Epoch: 0, loss:  2.62\n",
            "Epoch: 1, loss:  2.24\n",
            "Epoch: 2, loss:  2.1\n",
            "Epoch: 3, loss:  2.0\n",
            "Epoch: 4, loss:  1.93\n",
            "Epoch: 5, loss:  1.88\n",
            "Epoch: 6, loss:  1.84\n",
            "Epoch: 7, loss:  1.8\n",
            "Epoch: 8, loss:  1.76\n",
            "Epoch: 9, loss:  1.73\n",
            "Epoch: 10, loss:  1.71\n",
            "Epoch: 11, loss:  1.68\n",
            "Epoch: 12, loss:  1.66\n",
            "Epoch: 13, loss:  1.65\n",
            "Epoch: 14, loss:  1.64\n",
            "Epoch: 15, loss:  1.63\n",
            "Epoch: 16, loss:  1.63\n",
            "Epoch: 17, loss:  1.61\n",
            "Epoch: 18, loss:  1.59\n",
            "Epoch: 19, loss:  1.58\n"
          ]
        },
        {
          "output_type": "execute_result",
          "data": {
            "text/plain": [
              "1240"
            ]
          },
          "metadata": {},
          "execution_count": 19
        }
      ]
    },
    {
      "cell_type": "code",
      "source": [
        "plt.figure(figsize=(15, 8))\n",
        "sns.lineplot(x=np.arange(len(lstm_ret)), y=lstm_ret)\n",
        "plt.title(\"Loss through iterations\")\n",
        "plt.xlabel(\"#iteration\")\n",
        "plt.ylabel(\"loss\")\n",
        "plt.show()"
      ],
      "metadata": {
        "colab": {
          "base_uri": "https://localhost:8080/",
          "height": 521
        },
        "id": "EdLL1y5ln89W",
        "outputId": "7f20e670-244b-4042-d647-d47c003bb257"
      },
      "execution_count": 20,
      "outputs": [
        {
          "output_type": "display_data",
          "data": {
            "image/png": "[encoded data removed]",
            "text/plain": [
              "<Figure size 1080x576 with 1 Axes>"
            ]
          },
          "metadata": {}
        }
      ]
    },
    {
      "cell_type": "markdown",
      "source": [
        "__OBSERVATION:__ After 20 epochs RNN got 1.67 loss, and LSTM got slightly less, 1.58."
      ],
      "metadata": {
        "id": "aR7wAoEcwdmG"
      }
    },
    {
      "cell_type": "markdown",
      "metadata": {
        "id": "ErgyD5Ipl9gL"
      },
      "source": [
        "Generate text using the trained net with different `temperature` parameter: `[0.1, 0.2, 0.5, 1.0, 2.0]`.\n",
        "\n",
        "Evaluate the results visually, try to interpret them."
      ]
    },
    {
      "cell_type": "code",
      "execution_count": 21,
      "metadata": {
        "collapsed": true,
        "id": "cApOEVSSl9gL",
        "colab": {
          "base_uri": "https://localhost:8080/"
        },
        "outputId": "1389c511-0b4e-4ed6-a52e-e7c6eb4e9e4d"
      },
      "outputs": [
        {
          "output_type": "stream",
          "name": "stdout",
          "text": [
            "~~~~~~~~~~~~~~~~~~~~~~~~~~~~~~~~~~~~~~~(temperature = 0.1)~~~~~~~~~~~~~~~~~~~~~~~~~~~~~~~~~~~~~~~~~~~~\n",
            " hellon in thee,\n",
            "    the fort and the stringted the strings of thee,\n",
            "    that i an the stringt the stringted steel\n",
            "  the farth the stringted and thee steel\n",
            "  the far the strence strengle thee thee doth lie,\n",
            "    the fort a tome the strence strange thee thee steet\n",
            "  and thee the strence strengle thee thee thee,\n",
            "    that i am the sweet the strence strange,\n",
            "    that i am thou art the strence strange,\n",
            "  and the stringt of the stringted thee doth lie,\n",
            "    that the stringted the stringted and thee doth lie,\n",
            " \n",
            "~~~~~~~~~~~~~~~~~~~~~~~~~~~~~~~~~~~~~~~(temperature = 0.2)~~~~~~~~~~~~~~~~~~~~~~~~~~~~~~~~~~~~~~~~~~~~\n",
            " hellon in thee.\n",
            "\n",
            "  xxviii\n",
            "\n",
            "  the stringt the stare the strence the receates,\n",
            "  and thee the stringt of the stringted,\n",
            "  and thee the earth the stronger thee thee doth lie,\n",
            "    that in the stronger i to the string,\n",
            "  and the stringted the strearted a tome steet,\n",
            "  and thee thee thou art the some that see steet\n",
            "  and the stronger the doth the strengle to thee,\n",
            "    the far the stronger the strence strange,\n",
            "    that the strence state the world the strenks of thee,\n",
            "    that i am thy self thee thee thee sti\n",
            "~~~~~~~~~~~~~~~~~~~~~~~~~~~~~~~~~~~~~~~(temperature = 0.5)~~~~~~~~~~~~~~~~~~~~~~~~~~~~~~~~~~~~~~~~~~~~\n",
            " hellor be tongue.\n",
            "    that thee i am all the strincters thee steem\n",
            "\n",
            "  cxlviiingly to and thee.\n",
            "\n",
            "  cxxiii\n",
            "\n",
            "  and their see do that exparse i liend upline,\n",
            "    but thou art paire that that thou to thee doth lives.\n",
            "\n",
            "  cxxviii\n",
            "\n",
            "  for which i lieth the fortering his mame,\n",
            "  and art the sweet as that to that doth car,\n",
            "    for the some to be this were but doth live,\n",
            "    that i heart thee that heart that asterse be deceesse.\n",
            "    thou do not that the compore, thou doth the sweet dear,\n",
            "    the from the worth th\n",
            "~~~~~~~~~~~~~~~~~~~~~~~~~~~~~~~~~~~~~~~(temperature = 1.0)~~~~~~~~~~~~~~~~~~~~~~~~~~~~~~~~~~~~~~~~~~~~\n",
            " helloe.\n",
            "  that thee king hack by nembors dace of from the spee.\n",
            "  in might your goalty doed co,'d not\n",
            "  hewron ten thou comful habitsh with steet of me.\n",
            "    that and chable my fail hisknofse, and beauty;\n",
            "  tore, or carase heart to hing mage my presing\n",
            "\n",
            "  andon the rofe so carter to, i acquake:\n",
            "    ede it thee, and ther preass is my daisied.\n",
            "    three hrof though, which provice hinker mads',\n",
            "  and 'thought i then haw stealt! lets if to endery\n",
            "  love's vint should finder by me nor thou is oft\n",
            "  wrich my\n",
            "~~~~~~~~~~~~~~~~~~~~~~~~~~~~~~~~~~~~~~~(temperature = 2.0)~~~~~~~~~~~~~~~~~~~~~~~~~~~~~~~~~~~~~~~~~~~~\n",
            " hellor nrowih,\n",
            "    you, facy askit, wr hak' ifnephansalte!s practon swar\n",
            ", c!ixl\n",
            "' habl: kinl mentsilpendihs y ? an tooty'sh\n",
            "\n",
            "  iv'\n",
            "  sto athmn's ropeic ricquly tomy past,im 'grae'd ryee;\n",
            "  theng,, dotfruriculy theaufal jayes; sbet\n",
            "  clmods covorole'tiuqus fyloc'd:, ulv'sugh's croubfats iv\n",
            "  akeh banpov! mavend fairict'dflemaanumar,\n",
            "  nor hew rack resben notip topfue un's eyes\n",
            "\n",
            "  r.\n",
            "\n",
            " 'r!\n",
            "  ynad, me\n",
            "  mfarewreref', fealous' o'egp's duane, swemb'd-messed, king,\n",
            "  iw!;e in!\n",
            "\n",
            " '\n",
            "- iw, niguhizf's wadscowr\n"
          ]
        }
      ],
      "source": [
        "temps = [0.1, 0.2, 0.5, 1.0, 2.0]\n",
        "for temp in temps:\n",
        "  print(f\"~~~~~~~~~~~~~~~~~~~~~~~~~~~~~~~~~~~~~~~(temperature = {temp})~~~~~~~~~~~~~~~~~~~~~~~~~~~~~~~~~~~~~~~~~~~~\")\n",
        "  print(sample(lstm_model, 500, prime=' Hello', temperature=temp, is_lstm=True))"
      ]
    },
    {
      "cell_type": "markdown",
      "source": [
        "__Conclusion:__ \n",
        "1. In LSTM we can see that it can also remember the structure of the text and generates almost poetic styled text. Also, it acquires a more reasonable context from the symbolic sequences. However, as our tokens are symbols, not words, all models are generating too stupid text. Well ,RNN is too weak for generating a poetic styled text, as it cannot remember the last `\\n` symbol.\n",
        "2. As for the LSTM itself, with low temperature we are getting the most common words from the original text. But by increasing the temperature we are lossing english :), and getting a random symbol set. However, in all temperatures, the poetic style is not changing which means that some reasonable infomration is still retrieved from the data."
      ],
      "metadata": {
        "id": "VSancBpNqJaE"
      }
    },
    {
      "cell_type": "markdown",
      "metadata": {
        "id": "OSujehHol9gM"
      },
      "source": [
        "### Saving and loading models"
      ]
    },
    {
      "cell_type": "markdown",
      "metadata": {
        "id": "X7gvPLsyl9gM"
      },
      "source": [
        "Save the model to the disk, then load it and generate text. Examples are available [here](https://pytorch.org/tutorials/beginner/saving_loading_models.html])."
      ]
    },
    {
      "cell_type": "code",
      "execution_count": 30,
      "metadata": {
        "collapsed": true,
        "id": "PMXbGaj1l9gM"
      },
      "outputs": [],
      "source": [
        "rnn_poet = \"./rnn_poet.pth\"\n",
        "lstm_poet = \"./lstm_poet.pth\"\n",
        "\n",
        "with open(rnn_poet, 'wb') as f:\n",
        "  torch.save(model, f)\n",
        "\n",
        "with open(lstm_poet, 'wb') as f:\n",
        "  torch.save(lstm_model, f)"
      ]
    },
    {
      "cell_type": "code",
      "source": [
        "with open(rnn_poet, 'rb') as f:\n",
        "  rnn_net = torch.load(f)\n",
        "  rnn_net.eval()\n",
        "  print(sample(rnn_net, 500, prime=' Hello', temperature=0.5))"
      ],
      "metadata": {
        "colab": {
          "base_uri": "https://localhost:8080/"
        },
        "id": "6RiOzbYAuJNE",
        "outputId": "9b5c8e70-46d5-4713-837f-9f6bd24bb15e"
      },
      "execution_count": 31,
      "outputs": [
        {
          "output_type": "stream",
          "name": "stdout",
          "text": [
            " hellower in my part,\n",
            "  and what waster far that the will and that that heart love the sun my heart the reast,\n",
            "  and thou take and the world and thou do doth love and friend age:\n",
            "    and and thou bear the heart that is brand and fair factent and my daken'd that my heart this none, or hate in the death's be the conth maken's art this compare still doth make all the beart which sweet beauty thought men thou lick with thou art in breath heart the wasten you doth that muse of heart heart thee happerter tim\n"
          ]
        }
      ]
    },
    {
      "cell_type": "code",
      "source": [
        "with open(lstm_poet, 'rb') as f:\n",
        "  lstm_net = torch.load(f)\n",
        "  lstm_net.eval()\n",
        "  print(sample(lstm_net, 500, prime=' Hello', temperature=0.5, is_lstm=True))"
      ],
      "metadata": {
        "colab": {
          "base_uri": "https://localhost:8080/"
        },
        "id": "e5G7ypitu9w4",
        "outputId": "8990e70a-18f1-46a8-9134-c44d786bacce"
      },
      "execution_count": 33,
      "outputs": [
        {
          "output_type": "stream",
          "name": "stdout",
          "text": [
            " hellon,\n",
            "  when the care my the stringties a preceat;\n",
            "  and have show thee thee the east in thee for thee:\n",
            "    that heart that sweet thou thou how when thee dost fair,\n",
            "    and thee thine fair the care me is time,\n",
            "  and my never i that in the parted,\n",
            "  and for thee you my self to heir doth plear,\n",
            "  but is thou doth with that to thy sweet sight\n",
            "  and contains and beauty of thee troad\n",
            "  and for thee that such were thee hold,\n",
            "  that i the some are proud this not so worl\n",
            "  and the remair that and heart for \n"
          ]
        }
      ]
    },
    {
      "cell_type": "markdown",
      "source": [
        "STATE OF THE ART ARTIFICIALY TALENTED POETS! :)"
      ],
      "metadata": {
        "id": "EpaTPo4Rv3Kf"
      }
    },
    {
      "cell_type": "markdown",
      "metadata": {
        "id": "J6gtJeOjl9gN"
      },
      "source": [
        "### References\n",
        "1. <a href='http://karpathy.github.io/2015/05/21/rnn-effectiveness/'> Andrew Karpathy blog post about RNN. </a> \n",
        "There are several examples of genration: Shakespeare texts, Latex formulas, Linux Sourse Code and children names.\n",
        "2. <a href='https://github.com/karpathy/char-rnn'> Repo with char-rnn code </a>\n",
        "3. Cool repo with PyTorch examples: [link](https://github.com/spro/practical-pytorch`)"
      ]
    }
  ],
  "metadata": {
    "anaconda-cloud": {},
    "kernelspec": {
      "display_name": "Python 3",
      "language": "python",
      "name": "python3"
    },
    "language_info": {
      "codemirror_mode": {
        "name": "ipython",
        "version": 3
      },
      "file_extension": ".py",
      "mimetype": "text/x-python",
      "name": "python",
      "nbconvert_exporter": "python",
      "pygments_lexer": "ipython3",
      "version": "3.7.10"
    },
    "colab": {
      "name": "Lab2_DL_part3_poetry.ipynb",
      "provenance": [],
      "collapsed_sections": []
    },
    "accelerator": "GPU"
  },
  "nbformat": 4,
  "nbformat_minor": 0
}